{
  "cells": [
    {
      "cell_type": "markdown",
      "metadata": {
        "id": "SsUISXgr6EkZ"
      },
      "source": [
        "# Classification of the dataset using extracted features"
      ]
    },
    {
      "cell_type": "markdown",
      "metadata": {
        "id": "JBmCCh7t6PD3"
      },
      "source": [
        "- Set to `true` if runnig in Colab"
      ]
    },
    {
      "cell_type": "code",
      "execution_count": 33,
      "metadata": {
        "id": "2rH-T79x6Dfs"
      },
      "outputs": [],
      "source": [
        "RUNNING_IN_COLAB = False"
      ]
    },
    {
      "cell_type": "markdown",
      "metadata": {
        "id": "KqL9ydoV6RUW"
      },
      "source": [
        "### Import google drive"
      ]
    },
    {
      "cell_type": "code",
      "execution_count": 34,
      "metadata": {
        "colab": {
          "base_uri": "https://localhost:8080/"
        },
        "id": "sRLmWFb_6JMh",
        "outputId": "0807f382-ce15-4d0d-ed09-20638fb03a96"
      },
      "outputs": [],
      "source": [
        "if RUNNING_IN_COLAB:\n",
        "\n",
        "    from google.colab import drive\n",
        "\n",
        "    #Mount drive\n",
        "    drive.mount('/content/drive', force_remount=True)"
      ]
    },
    {
      "cell_type": "markdown",
      "metadata": {
        "id": "zBX5UzP86W-F"
      },
      "source": [
        "### Import modules"
      ]
    },
    {
      "cell_type": "code",
      "execution_count": 35,
      "metadata": {
        "id": "R9qDd58s6ZLb"
      },
      "outputs": [],
      "source": [
        "import pandas\n",
        "\n",
        "from sklearn.model_selection import train_test_split\n",
        "from sklearn.metrics import classification_report, confusion_matrix\n",
        "\n",
        "import matplotlib.pyplot as plt\n",
        "import seaborn as sns  "
      ]
    },
    {
      "cell_type": "markdown",
      "metadata": {
        "id": "8DuinkAx6eMF"
      },
      "source": [
        "### Reading dataset CSV"
      ]
    },
    {
      "cell_type": "code",
      "execution_count": 36,
      "metadata": {
        "colab": {
          "base_uri": "https://localhost:8080/",
          "height": 270
        },
        "id": "a0yF0kiP6hrU",
        "outputId": "f665a2fc-808b-429e-b674-0b1225d9f1ae"
      },
      "outputs": [
        {
          "data": {
            "text/html": [
              "<div>\n",
              "<style scoped>\n",
              "    .dataframe tbody tr th:only-of-type {\n",
              "        vertical-align: middle;\n",
              "    }\n",
              "\n",
              "    .dataframe tbody tr th {\n",
              "        vertical-align: top;\n",
              "    }\n",
              "\n",
              "    .dataframe thead th {\n",
              "        text-align: right;\n",
              "    }\n",
              "</style>\n",
              "<table border=\"1\" class=\"dataframe\">\n",
              "  <thead>\n",
              "    <tr style=\"text-align: right;\">\n",
              "      <th></th>\n",
              "      <th>avgpathtokenlen</th>\n",
              "      <th>pathurlRatio</th>\n",
              "      <th>ArgUrlRatio</th>\n",
              "      <th>argDomanRatio</th>\n",
              "      <th>domainUrlRatio</th>\n",
              "      <th>pathDomainRatio</th>\n",
              "      <th>argPathRatio</th>\n",
              "      <th>CharacterContinuityRate</th>\n",
              "      <th>NumberRate_URL</th>\n",
              "      <th>NumberRate_FileName</th>\n",
              "      <th>NumberRate_AfterPath</th>\n",
              "      <th>Entropy_Domain</th>\n",
              "      <th>class</th>\n",
              "    </tr>\n",
              "  </thead>\n",
              "  <tbody>\n",
              "    <tr>\n",
              "      <th>0</th>\n",
              "      <td>105.0</td>\n",
              "      <td>0.876</td>\n",
              "      <td>0.008</td>\n",
              "      <td>0.087</td>\n",
              "      <td>0.095</td>\n",
              "      <td>9.174</td>\n",
              "      <td>0.010</td>\n",
              "      <td>0.435</td>\n",
              "      <td>0.199</td>\n",
              "      <td>0.219</td>\n",
              "      <td>-1.0</td>\n",
              "      <td>0.904</td>\n",
              "      <td>phishing</td>\n",
              "    </tr>\n",
              "    <tr>\n",
              "      <th>1</th>\n",
              "      <td>66.0</td>\n",
              "      <td>0.874</td>\n",
              "      <td>0.009</td>\n",
              "      <td>0.091</td>\n",
              "      <td>0.096</td>\n",
              "      <td>9.136</td>\n",
              "      <td>0.010</td>\n",
              "      <td>0.682</td>\n",
              "      <td>0.257</td>\n",
              "      <td>0.293</td>\n",
              "      <td>-1.0</td>\n",
              "      <td>0.870</td>\n",
              "      <td>phishing</td>\n",
              "    </tr>\n",
              "    <tr>\n",
              "      <th>2</th>\n",
              "      <td>66.0</td>\n",
              "      <td>0.874</td>\n",
              "      <td>0.009</td>\n",
              "      <td>0.091</td>\n",
              "      <td>0.096</td>\n",
              "      <td>9.136</td>\n",
              "      <td>0.010</td>\n",
              "      <td>0.682</td>\n",
              "      <td>0.000</td>\n",
              "      <td>0.000</td>\n",
              "      <td>-1.0</td>\n",
              "      <td>0.870</td>\n",
              "      <td>phishing</td>\n",
              "    </tr>\n",
              "    <tr>\n",
              "      <th>3</th>\n",
              "      <td>66.0</td>\n",
              "      <td>0.874</td>\n",
              "      <td>0.009</td>\n",
              "      <td>0.091</td>\n",
              "      <td>0.096</td>\n",
              "      <td>9.136</td>\n",
              "      <td>0.010</td>\n",
              "      <td>0.682</td>\n",
              "      <td>0.000</td>\n",
              "      <td>0.000</td>\n",
              "      <td>-1.0</td>\n",
              "      <td>0.870</td>\n",
              "      <td>phishing</td>\n",
              "    </tr>\n",
              "    <tr>\n",
              "      <th>4</th>\n",
              "      <td>65.0</td>\n",
              "      <td>0.948</td>\n",
              "      <td>0.006</td>\n",
              "      <td>0.182</td>\n",
              "      <td>0.032</td>\n",
              "      <td>30.000</td>\n",
              "      <td>0.006</td>\n",
              "      <td>0.727</td>\n",
              "      <td>0.141</td>\n",
              "      <td>0.141</td>\n",
              "      <td>-1.0</td>\n",
              "      <td>1.000</td>\n",
              "      <td>benign</td>\n",
              "    </tr>\n",
              "  </tbody>\n",
              "</table>\n",
              "</div>"
            ],
            "text/plain": [
              "   avgpathtokenlen  pathurlRatio  ArgUrlRatio  argDomanRatio  domainUrlRatio  \\\n",
              "0            105.0         0.876        0.008          0.087           0.095   \n",
              "1             66.0         0.874        0.009          0.091           0.096   \n",
              "2             66.0         0.874        0.009          0.091           0.096   \n",
              "3             66.0         0.874        0.009          0.091           0.096   \n",
              "4             65.0         0.948        0.006          0.182           0.032   \n",
              "\n",
              "   pathDomainRatio  argPathRatio  CharacterContinuityRate  NumberRate_URL  \\\n",
              "0            9.174         0.010                    0.435           0.199   \n",
              "1            9.136         0.010                    0.682           0.257   \n",
              "2            9.136         0.010                    0.682           0.000   \n",
              "3            9.136         0.010                    0.682           0.000   \n",
              "4           30.000         0.006                    0.727           0.141   \n",
              "\n",
              "   NumberRate_FileName  NumberRate_AfterPath  Entropy_Domain     class  \n",
              "0                0.219                  -1.0           0.904  phishing  \n",
              "1                0.293                  -1.0           0.870  phishing  \n",
              "2                0.000                  -1.0           0.870  phishing  \n",
              "3                0.000                  -1.0           0.870  phishing  \n",
              "4                0.141                  -1.0           1.000    benign  "
            ]
          },
          "execution_count": 36,
          "metadata": {},
          "output_type": "execute_result"
        }
      ],
      "source": [
        "if RUNNING_IN_COLAB:\n",
        "    CSV_PATH = '/content/drive/My Drive/Colab Notebooks/All_Infogain.csv'\n",
        "else:   \n",
        "    CSV_PATH = '../../dataset/FinalDataset/All_Infogain.csv'\n",
        "\n",
        "CLASS_LABEL_COLUMN = 'class'\n",
        "\n",
        "# Reads CSV file with data\n",
        "df = pandas.read_csv(CSV_PATH, index_col=0)\n",
        "\n",
        "#Remove values with 'NaN'\n",
        "df.dropna(inplace=True)\n",
        "\n",
        "#Resets index \n",
        "df = df.reset_index()\n",
        "\n",
        "df.head()"
      ]
    },
    {
      "cell_type": "markdown",
      "metadata": {
        "id": "86htQ3Pd645M"
      },
      "source": [
        "### Split data into X and Y"
      ]
    },
    {
      "cell_type": "code",
      "execution_count": 37,
      "metadata": {
        "colab": {
          "base_uri": "https://localhost:8080/"
        },
        "id": "XGTHbGdH6-iQ",
        "outputId": "9162c008-816a-4685-9f3a-8ada2fb9169f"
      },
      "outputs": [
        {
          "name": "stdout",
          "output_type": "stream",
          "text": [
            "[[ 1.05e+02  8.76e-01  8.00e-03 ...  2.19e-01 -1.00e+00  9.04e-01]\n",
            " [ 6.60e+01  8.74e-01  9.00e-03 ...  2.93e-01 -1.00e+00  8.70e-01]\n",
            " [ 6.60e+01  8.74e-01  9.00e-03 ...  0.00e+00 -1.00e+00  8.70e-01]\n",
            " ...\n",
            " [ 1.00e+00  9.80e-02  4.90e-02 ...  0.00e+00 -1.00e+00  7.29e-01]\n",
            " [ 1.00e+00  1.05e-01  5.30e-02 ...  0.00e+00 -1.00e+00  7.14e-01]\n",
            " [ 6.67e-01  1.25e-01  5.00e-02 ...  0.00e+00 -1.00e+00  8.61e-01]]\n",
            "\n",
            "\n",
            "['phishing' 'phishing' 'phishing' ... 'phishing' 'phishing' 'phishing']\n"
          ]
        }
      ],
      "source": [
        "#X is a matrix, with all the samples feature array\n",
        "X = df.iloc[:, :-1].values\n",
        "print(X)\n",
        "\n",
        "print('\\n')\n",
        "\n",
        "#Y is the class of the samples\n",
        "Y = df.iloc[:, -1].values\n",
        "print(Y)"
      ]
    },
    {
      "cell_type": "markdown",
      "metadata": {
        "id": "rKL2PYN3IWiP"
      },
      "source": [
        "### Normalize data"
      ]
    },
    {
      "cell_type": "code",
      "execution_count": 38,
      "metadata": {},
      "outputs": [
        {
          "name": "stdout",
          "output_type": "stream",
          "text": [
            "[[ 9.96075809e-01  8.31011818e-03  7.58914902e-05 ...  2.07752955e-03\n",
            "  -9.48643628e-03  8.57573840e-03]\n",
            " [ 9.90203040e-01  1.31126887e-02  1.35027687e-04 ...  4.39590138e-03\n",
            "  -1.50030764e-02  1.30526764e-02]\n",
            " [ 9.90219969e-01  1.31129129e-02  1.35029996e-04 ...  0.00000000e+00\n",
            "  -1.50033329e-02  1.30528996e-02]\n",
            " ...\n",
            " [ 5.10214176e-01  5.00009892e-02  2.50004946e-02 ...  0.00000000e+00\n",
            "  -5.10214176e-01  3.71946134e-01]\n",
            " [ 5.01837833e-01  5.26929725e-02  2.65974052e-02 ...  0.00000000e+00\n",
            "  -5.01837833e-01  3.58312213e-01]\n",
            " [ 3.74073965e-01  7.01038166e-02  2.80415266e-02 ...  0.00000000e+00\n",
            "  -5.60830533e-01  4.82875089e-01]]\n"
          ]
        }
      ],
      "source": [
        "from sklearn.preprocessing import normalize\n",
        "\n",
        "X_norm = normalize(X)\n",
        "print(X_norm)"
      ]
    },
    {
      "cell_type": "markdown",
      "metadata": {},
      "source": [
        "### Execute KNN"
      ]
    },
    {
      "cell_type": "code",
      "execution_count": 39,
      "metadata": {
        "colab": {
          "base_uri": "https://localhost:8080/"
        },
        "id": "StDPo4zlIXCo",
        "outputId": "20de5617-41c8-4b44-f901-e1cbaf8060dc"
      },
      "outputs": [
        {
          "name": "stdout",
          "output_type": "stream",
          "text": [
            "              precision    recall  f1-score   support\n",
            "\n",
            "  Defacement       0.89      0.90      0.89      1554\n",
            "      benign       0.85      0.89      0.87      1542\n",
            "     malware       0.86      0.90      0.88      1338\n",
            "    phishing       0.82      0.77      0.80      1456\n",
            "        spam       0.93      0.90      0.92      1394\n",
            "\n",
            "    accuracy                           0.87      7284\n",
            "   macro avg       0.87      0.87      0.87      7284\n",
            "weighted avg       0.87      0.87      0.87      7284\n",
            "\n"
          ]
        }
      ],
      "source": [
        "from sklearn.neighbors import KNeighborsClassifier\n",
        "\n",
        "X_train, X_test, Y_train, Y_test = train_test_split(X_norm ,Y, test_size=0.2, random_state=5)\n",
        "\n",
        "knn =  KNeighborsClassifier(n_neighbors=5)\n",
        "knn.fit(X_train, Y_train)\n",
        "\n",
        "Y_pred = knn.predict(X_test)\n",
        "cm = confusion_matrix(Y_test, Y_pred)\n",
        "\n",
        "print(classification_report(Y_test, Y_pred))"
      ]
    },
    {
      "cell_type": "markdown",
      "metadata": {},
      "source": [
        "### Plot graph with KNN results"
      ]
    },
    {
      "cell_type": "code",
      "execution_count": 40,
      "metadata": {},
      "outputs": [
        {
          "data": {
            "image/png": "[encoded data removed]",
            "text/plain": [
              "<Figure size 1440x720 with 2 Axes>"
            ]
          },
          "metadata": {
            "needs_background": "light"
          },
          "output_type": "display_data"
        }
      ],
      "source": [
        "ax= plt.subplot()\n",
        "#annot=True to annotate cells, ftm='g' to disable scientific notation\n",
        "sns.heatmap(cm, annot=True, fmt='g' ,ax=ax)  \n",
        "\n",
        "# labels, title and ticks\n",
        "ax.set_title('Confusion Matrix - KNN', fontsize=20)\n",
        "ax.set_xlabel('Predicted labels', fontsize=20)\n",
        "ax.set_ylabel('True labels', fontsize=20)\n",
        "\n",
        "classes = ['Defacement', 'benign', 'malware', 'phishing', 'spam']\n",
        "\n",
        "ax.xaxis.set_ticklabels(classes, fontsize=10)\n",
        "ax.yaxis.set_ticklabels(classes, fontsize=10)\n",
        "\n",
        "plt.gcf().set_size_inches(20, 10)"
      ]
    },
    {
      "cell_type": "markdown",
      "metadata": {},
      "source": [
        "### Execute RandomForest"
      ]
    },
    {
      "cell_type": "code",
      "execution_count": 41,
      "metadata": {},
      "outputs": [
        {
          "name": "stdout",
          "output_type": "stream",
          "text": [
            "              precision    recall  f1-score   support\n",
            "\n",
            "  Defacement       0.95      0.93      0.94      1554\n",
            "      benign       0.91      0.95      0.93      1542\n",
            "     malware       0.97      0.96      0.96      1338\n",
            "    phishing       0.87      0.89      0.88      1456\n",
            "        spam       0.97      0.94      0.95      1394\n",
            "\n",
            "    accuracy                           0.93      7284\n",
            "   macro avg       0.93      0.93      0.93      7284\n",
            "weighted avg       0.93      0.93      0.93      7284\n",
            "\n"
          ]
        }
      ],
      "source": [
        "from sklearn.ensemble import RandomForestClassifier\n",
        "\n",
        "X_train, X_test, Y_train, Y_test = train_test_split(X_norm ,Y, test_size=0.2, random_state=5)\n",
        "\n",
        "rf =  RandomForestClassifier(n_estimators=100)\n",
        "rf.fit(X_train, Y_train)\n",
        "\n",
        "Y_pred = rf.predict(X_test)\n",
        "cm = confusion_matrix(Y_test, Y_pred)\n",
        "\n",
        "print(classification_report(Y_test, Y_pred))"
      ]
    },
    {
      "cell_type": "markdown",
      "metadata": {},
      "source": [
        "### Plot graph with RandomForest results"
      ]
    },
    {
      "cell_type": "code",
      "execution_count": 42,
      "metadata": {},
      "outputs": [
        {
          "data": {
            "image/png": "[encoded data removed]",
            "text/plain": [
              "<Figure size 1440x720 with 2 Axes>"
            ]
          },
          "metadata": {
            "needs_background": "light"
          },
          "output_type": "display_data"
        }
      ],
      "source": [
        "ax= plt.subplot()\n",
        "#annot=True to annotate cells, ftm='g' to disable scientific notation\n",
        "sns.heatmap(cm, annot=True, fmt='g' ,ax=ax)  \n",
        "\n",
        "# labels, title and ticks\n",
        "ax.set_title('Confusion Matrix - RandomForest', fontsize=20)\n",
        "ax.set_xlabel('Predicted labels', fontsize=20)\n",
        "ax.set_ylabel('True labels', fontsize=20)\n",
        "\n",
        "classes = ['Defacement', 'benign', 'malware', 'phishing', 'spam']\n",
        "\n",
        "ax.xaxis.set_ticklabels(classes, fontsize=10)\n",
        "ax.yaxis.set_ticklabels(classes, fontsize=10)\n",
        "\n",
        "plt.gcf().set_size_inches(20, 10)"
      ]
    }
  ],
  "metadata": {
    "colab": {
      "collapsed_sections": [],
      "name": "Classify.ipynb",
      "provenance": []
    },
    "kernelspec": {
      "display_name": "Python 3",
      "name": "python3"
    },
    "language_info": {
      "codemirror_mode": {
        "name": "ipython",
        "version": 3
      },
      "file_extension": ".py",
      "mimetype": "text/x-python",
      "name": "python",
      "nbconvert_exporter": "python",
      "pygments_lexer": "ipython3",
      "version": "3.10.0"
    }
  },
  "nbformat": 4,
  "nbformat_minor": 0
}
