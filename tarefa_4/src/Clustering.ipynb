{
 "cells": [
  {
   "cell_type": "markdown",
   "metadata": {},
   "source": [
    "## Clustering\n"
   ]
  },
  {
   "cell_type": "markdown",
   "metadata": {},
   "source": [
    "- Setar essa variável para `true` se for rodar no Google Colab"
   ]
  },
  {
   "cell_type": "code",
   "execution_count": 173,
   "metadata": {},
   "outputs": [],
   "source": [
    "RUNNING_IN_COLAB = False"
   ]
  },
  {
   "cell_type": "markdown",
   "metadata": {},
   "source": [
    "- Importa google drive, verifica GPU"
   ]
  },
  {
   "cell_type": "code",
   "execution_count": 174,
   "metadata": {},
   "outputs": [],
   "source": [
    "if RUNNING_IN_COLAB:\n",
    "\n",
    "    from google.colab import drive\n",
    "    import tensorflow as tf\n",
    "\n",
    "    #Mount drive\n",
    "    drive.mount('/content/drive', force_remount=True)\n",
    "\n",
    "    #Check GPU\n",
    "    device_name = tf.test.gpu_device_name()\n",
    "    if device_name != '/device:GPU:0':\n",
    "        raise SystemError('GPU device not found')\n",
    "    print('Found GPU at: {}'.format(device_name))"
   ]
  },
  {
   "cell_type": "markdown",
   "metadata": {},
   "source": [
    "- Importar módulos"
   ]
  },
  {
   "cell_type": "code",
   "execution_count": 175,
   "metadata": {},
   "outputs": [],
   "source": [
    "import sys\n",
    "import pandas\n",
    "import numpy as np\n",
    "\n",
    "import matplotlib.pyplot as plt\n",
    "\n",
    "import sklearn.cluster as cluster\n",
    "import sklearn.decomposition as decomposition"
   ]
  },
  {
   "cell_type": "markdown",
   "metadata": {},
   "source": [
    "- Leitura do dataset"
   ]
  },
  {
   "cell_type": "code",
   "execution_count": 176,
   "metadata": {},
   "outputs": [
    {
     "name": "stdout",
     "output_type": "stream",
     "text": [
      "                 pathurlRatio  ArgUrlRatio  argDomanRatio  domainUrlRatio  \\\n",
      "avgpathtokenlen                                                             \n",
      "105.000                 0.876        0.008          0.087           0.095   \n",
      "66.000                  0.874        0.009          0.091           0.096   \n",
      "66.000                  0.874        0.009          0.091           0.096   \n",
      "66.000                  0.874        0.009          0.091           0.096   \n",
      "65.000                  0.948        0.006          0.182           0.032   \n",
      "...                       ...          ...            ...             ...   \n",
      "1.000                   0.098        0.049          0.067           0.732   \n",
      "1.000                   0.160        0.080          0.143           0.560   \n",
      "1.000                   0.098        0.049          0.067           0.732   \n",
      "1.000                   0.105        0.053          0.074           0.711   \n",
      "0.667                   0.125        0.050          0.071           0.700   \n",
      "\n",
      "                 pathDomainRatio  argPathRatio  CharacterContinuityRate  \\\n",
      "avgpathtokenlen                                                           \n",
      "105.000                    9.174         0.010                    0.435   \n",
      "66.000                     9.136         0.010                    0.682   \n",
      "66.000                     9.136         0.010                    0.682   \n",
      "66.000                     9.136         0.010                    0.682   \n",
      "65.000                    30.000         0.006                    0.727   \n",
      "...                          ...           ...                      ...   \n",
      "1.000                      0.133         0.500                    0.300   \n",
      "1.000                      0.286         0.500                    0.357   \n",
      "1.000                      0.133         0.500                    0.700   \n",
      "1.000                      0.148         0.500                    0.815   \n",
      "0.667                      0.179         0.400                    0.536   \n",
      "\n",
      "                 NumberRate_URL  NumberRate_FileName  NumberRate_AfterPath  \\\n",
      "avgpathtokenlen                                                              \n",
      "105.000                   0.199                0.219                  -1.0   \n",
      "66.000                    0.257                0.293                  -1.0   \n",
      "66.000                    0.000                0.000                  -1.0   \n",
      "66.000                    0.000                0.000                  -1.0   \n",
      "65.000                    0.141                0.141                  -1.0   \n",
      "...                         ...                  ...                   ...   \n",
      "1.000                     0.000                0.000                  -1.0   \n",
      "1.000                     0.000                0.000                  -1.0   \n",
      "1.000                     0.000                0.000                  -1.0   \n",
      "1.000                     0.000                0.000                  -1.0   \n",
      "0.667                     0.025                0.000                  -1.0   \n",
      "\n",
      "                 Entropy_Domain       class  \n",
      "avgpathtokenlen                              \n",
      "105.000                   0.904    phishing  \n",
      "66.000                    0.870    phishing  \n",
      "66.000                    0.870    phishing  \n",
      "66.000                    0.870    phishing  \n",
      "65.000                    1.000      benign  \n",
      "...                         ...         ...  \n",
      "1.000                     0.748    phishing  \n",
      "1.000                     0.873  Defacement  \n",
      "1.000                     0.729    phishing  \n",
      "1.000                     0.714    phishing  \n",
      "0.667                     0.861    phishing  \n",
      "\n",
      "[36417 rows x 12 columns]\n"
     ]
    }
   ],
   "source": [
    "if RUNNING_IN_COLAB:\n",
    "    CSV_PATH = './All_Infogain.csv'\n",
    "else:   \n",
    "    CSV_PATH = '../../tarefa_3/dataset/FinalDataset/All_Infogain.csv'\n",
    "\n",
    "CLASS_LABEL_COLUMN = 'class'\n",
    "\n",
    "# Reads CSV file with data\n",
    "df = pandas.read_csv(CSV_PATH, index_col=0)\n",
    "\n",
    "#Remove valuens with 'NaN'\n",
    "df.dropna(inplace=True) \n",
    "\n",
    "print(df)"
   ]
  },
  {
   "cell_type": "markdown",
   "metadata": {},
   "source": [
    "- Execução do Kmeans"
   ]
  },
  {
   "cell_type": "code",
   "execution_count": 177,
   "metadata": {},
   "outputs": [
    {
     "name": "stdout",
     "output_type": "stream",
     "text": [
      "Classes:  ['phishing' 'benign' 'Defacement' 'malware' 'spam']\n"
     ]
    },
    {
     "data": {
      "text/plain": [
       "KMeans(n_clusters=5)"
      ]
     },
     "execution_count": 177,
     "metadata": {},
     "output_type": "execute_result"
    }
   ],
   "source": [
    "print(\"Classes: \", df[CLASS_LABEL_COLUMN].unique())\n",
    "#Counts unique class labels as clusters\n",
    "n_clusters = len(df[CLASS_LABEL_COLUMN].unique())\n",
    "#print(f\"#### Using {n_clusters} clusters\\n\")\n",
    "\n",
    "#PDA to project the data in two dimensions for the graph\n",
    "df_data = df.drop(columns=[CLASS_LABEL_COLUMN])\n",
    "reduced_data = decomposition.PCA(n_components=2).fit_transform(df_data)\n",
    "\n",
    "#Kmeans\n",
    "kmeans = cluster.KMeans(init=\"k-means++\", n_clusters=n_clusters)\n",
    "kmeans.fit(reduced_data)"
   ]
  },
  {
   "cell_type": "code",
   "execution_count": 178,
   "metadata": {},
   "outputs": [
    {
     "data": {
      "image/png": "[encoded data removed]",
      "text/plain": [
       "<Figure size 432x288 with 1 Axes>"
      ]
     },
     "metadata": {},
     "output_type": "display_data"
    }
   ],
   "source": [
    "# Step size of the mesh. Decrease to increase the quality of the VQ.\n",
    "h = 0.02  # point in the mesh [x_min, x_max]x[y_min, y_max].\n",
    "\n",
    "# Plot the decision boundary. For that, we will assign a color to each\n",
    "x_min, x_max = reduced_data[:, 0].min() - 1, reduced_data[:, 0].max() + 1\n",
    "y_min, y_max = reduced_data[:, 1].min() - 1, reduced_data[:, 1].max() + 1\n",
    "xx, yy = np.meshgrid(np.arange(x_min, x_max, h), np.arange(y_min, y_max, h))\n",
    "\n",
    "# Obtain labels for each point in mesh. Use last trained model.\n",
    "Z = kmeans.predict(np.c_[xx.ravel(), yy.ravel()])\n",
    "loc = np.arange(0,max(Z),max(Z)/float(5))\n",
    "\n",
    "# Put the result into a color plot\n",
    "Z = Z.reshape(xx.shape)\n",
    "plt.figure(1)\n",
    "plt.clf()\n",
    "plt.imshow(\n",
    "    Z,\n",
    "    interpolation=\"nearest\",\n",
    "    extent=(xx.min(), xx.max(), yy.min(), yy.max()),\n",
    "    cmap=plt.cm.Paired,\n",
    "    aspect=\"auto\",\n",
    "    origin=\"lower\",\n",
    ")\n",
    "\n",
    "\n",
    "plt.plot(reduced_data[:, 0], reduced_data[:, 1], \"k.\" ,markersize=2)\n",
    "# Plot the centroids as a white X\n",
    "centroids = kmeans.cluster_centers_\n",
    "plt.scatter(\n",
    "    centroids[:, 0],\n",
    "    centroids[:, 1],\n",
    "    marker=\"x\",\n",
    "    s=169,\n",
    "    linewidths=3,\n",
    "    color=\"w\",\n",
    "    zorder=10\n",
    ")\n",
    "\n",
    "i = 0\n",
    "for centroid in centroids:\n",
    "    plt.text(centroid[0], centroid[1], f\"{i}\", color=\"w\", fontsize=40)\n",
    "    i +=1\n",
    "\n",
    "\n",
    "plt.title(\n",
    "    \"K-means clustering on the dataset (PCA-reduced data)\\n\"\n",
    "    \"Centroids are marked with white cross\"\n",
    ")\n",
    "plt.xlim(x_min, x_max)\n",
    "plt.ylim(y_min, y_max)\n",
    "plt.xticks(())\n",
    "plt.yticks(())\n",
    "\n",
    "plt.show()"
   ]
  },
  {
   "cell_type": "markdown",
   "metadata": {},
   "source": [
    "- How many samples are in each cluster"
   ]
  },
  {
   "cell_type": "code",
   "execution_count": 179,
   "metadata": {},
   "outputs": [
    {
     "name": "stdout",
     "output_type": "stream",
     "text": [
      "            class  Cluster\n",
      "0        phishing        3\n",
      "1        phishing        3\n",
      "2        phishing        3\n",
      "3        phishing        3\n",
      "4          benign        2\n",
      "...           ...      ...\n",
      "36412    phishing        4\n",
      "36413  Defacement        4\n",
      "36414    phishing        4\n",
      "36415    phishing        4\n",
      "36416    phishing        4\n",
      "\n",
      "[36417 rows x 2 columns]\n"
     ]
    }
   ],
   "source": [
    "df = df.reset_index()\n",
    "df['Cluster'] = kmeans.labels_\n",
    "\n",
    "df_clusters = df[ ['class', 'Cluster'] ]\n",
    "print(df_clusters)"
   ]
  }
 ],
 "metadata": {
  "interpreter": {
   "hash": "b29722c5c355476d10ff124b1ae29fb5bd3cb651981c85ddd4c1d2e201aff95d"
  },
  "kernelspec": {
   "display_name": "Python 3.10.0 64-bit ('3.10.0')",
   "language": "python",
   "name": "python3"
  },
  "language_info": {
   "codemirror_mode": {
    "name": "ipython",
    "version": 3
   },
   "file_extension": ".py",
   "mimetype": "text/x-python",
   "name": "python",
   "nbconvert_exporter": "python",
   "pygments_lexer": "ipython3",
   "version": "3.10.0"
  },
  "orig_nbformat": 4
 },
 "nbformat": 4,
 "nbformat_minor": 2
}
