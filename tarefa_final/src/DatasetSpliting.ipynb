{
  "cells": [
    {
      "cell_type": "markdown",
      "metadata": {
        "id": "4q1rMYkgLlpV"
      },
      "source": [
        "### Dataset Spliting\n",
        "- Splits the dataset, with equal class distribution\n",
        "- __All_Infogain_80.csv:__ contains 80% of the samples from the dataset\n",
        "- __All_Infogain_20.csv:__ contains 20% of the samples from the dataset "
      ]
    },
    {
      "cell_type": "markdown",
      "metadata": {
        "id": "JBmCCh7t6PD3"
      },
      "source": [
        "- Set to `true` if runnig in Colab"
      ]
    },
    {
      "cell_type": "code",
      "execution_count": 11,
      "metadata": {
        "id": "2rH-T79x6Dfs"
      },
      "outputs": [],
      "source": [
        "RUNNING_IN_COLAB = False"
      ]
    },
    {
      "cell_type": "markdown",
      "metadata": {
        "id": "KqL9ydoV6RUW"
      },
      "source": [
        "### Import google drive"
      ]
    },
    {
      "cell_type": "code",
      "execution_count": 12,
      "metadata": {
        "colab": {
          "base_uri": "https://localhost:8080/"
        },
        "id": "sRLmWFb_6JMh",
        "outputId": "34871d9f-588e-4ec8-9e15-642d643b86a0"
      },
      "outputs": [],
      "source": [
        "if RUNNING_IN_COLAB:\n",
        "\n",
        "    from google.colab import drive\n",
        "\n",
        "    #Mount drive\n",
        "    drive.mount('/content/drive', force_remount=True)"
      ]
    },
    {
      "cell_type": "markdown",
      "metadata": {
        "id": "zBX5UzP86W-F"
      },
      "source": [
        "### Import modules"
      ]
    },
    {
      "cell_type": "code",
      "execution_count": 13,
      "metadata": {
        "id": "56BIpfF3ML3M"
      },
      "outputs": [],
      "source": [
        "import pandas\n",
        "\n",
        "from sklearn.model_selection import train_test_split"
      ]
    },
    {
      "cell_type": "markdown",
      "metadata": {
        "id": "8DuinkAx6eMF"
      },
      "source": [
        "### Reading dataset CSV"
      ]
    },
    {
      "cell_type": "code",
      "execution_count": 14,
      "metadata": {
        "colab": {
          "base_uri": "https://localhost:8080/",
          "height": 270
        },
        "id": "a0yF0kiP6hrU",
        "outputId": "5fdc7c1b-af78-4407-f2d3-c3bece480689"
      },
      "outputs": [
        {
          "data": {
            "text/html": [
              "<div>\n",
              "<style scoped>\n",
              "    .dataframe tbody tr th:only-of-type {\n",
              "        vertical-align: middle;\n",
              "    }\n",
              "\n",
              "    .dataframe tbody tr th {\n",
              "        vertical-align: top;\n",
              "    }\n",
              "\n",
              "    .dataframe thead th {\n",
              "        text-align: right;\n",
              "    }\n",
              "</style>\n",
              "<table border=\"1\" class=\"dataframe\">\n",
              "  <thead>\n",
              "    <tr style=\"text-align: right;\">\n",
              "      <th></th>\n",
              "      <th>avgpathtokenlen</th>\n",
              "      <th>pathurlRatio</th>\n",
              "      <th>ArgUrlRatio</th>\n",
              "      <th>argDomanRatio</th>\n",
              "      <th>domainUrlRatio</th>\n",
              "      <th>pathDomainRatio</th>\n",
              "      <th>argPathRatio</th>\n",
              "      <th>CharacterContinuityRate</th>\n",
              "      <th>NumberRate_URL</th>\n",
              "      <th>NumberRate_FileName</th>\n",
              "      <th>NumberRate_AfterPath</th>\n",
              "      <th>Entropy_Domain</th>\n",
              "      <th>class</th>\n",
              "    </tr>\n",
              "  </thead>\n",
              "  <tbody>\n",
              "    <tr>\n",
              "      <th>0</th>\n",
              "      <td>105.0</td>\n",
              "      <td>0.876</td>\n",
              "      <td>0.008</td>\n",
              "      <td>0.087</td>\n",
              "      <td>0.095</td>\n",
              "      <td>9.174</td>\n",
              "      <td>0.010</td>\n",
              "      <td>0.435</td>\n",
              "      <td>0.199</td>\n",
              "      <td>0.219</td>\n",
              "      <td>-1.0</td>\n",
              "      <td>0.904</td>\n",
              "      <td>phishing</td>\n",
              "    </tr>\n",
              "    <tr>\n",
              "      <th>1</th>\n",
              "      <td>66.0</td>\n",
              "      <td>0.874</td>\n",
              "      <td>0.009</td>\n",
              "      <td>0.091</td>\n",
              "      <td>0.096</td>\n",
              "      <td>9.136</td>\n",
              "      <td>0.010</td>\n",
              "      <td>0.682</td>\n",
              "      <td>0.257</td>\n",
              "      <td>0.293</td>\n",
              "      <td>-1.0</td>\n",
              "      <td>0.870</td>\n",
              "      <td>phishing</td>\n",
              "    </tr>\n",
              "    <tr>\n",
              "      <th>2</th>\n",
              "      <td>66.0</td>\n",
              "      <td>0.874</td>\n",
              "      <td>0.009</td>\n",
              "      <td>0.091</td>\n",
              "      <td>0.096</td>\n",
              "      <td>9.136</td>\n",
              "      <td>0.010</td>\n",
              "      <td>0.682</td>\n",
              "      <td>0.000</td>\n",
              "      <td>0.000</td>\n",
              "      <td>-1.0</td>\n",
              "      <td>0.870</td>\n",
              "      <td>phishing</td>\n",
              "    </tr>\n",
              "    <tr>\n",
              "      <th>3</th>\n",
              "      <td>66.0</td>\n",
              "      <td>0.874</td>\n",
              "      <td>0.009</td>\n",
              "      <td>0.091</td>\n",
              "      <td>0.096</td>\n",
              "      <td>9.136</td>\n",
              "      <td>0.010</td>\n",
              "      <td>0.682</td>\n",
              "      <td>0.000</td>\n",
              "      <td>0.000</td>\n",
              "      <td>-1.0</td>\n",
              "      <td>0.870</td>\n",
              "      <td>phishing</td>\n",
              "    </tr>\n",
              "    <tr>\n",
              "      <th>4</th>\n",
              "      <td>65.0</td>\n",
              "      <td>0.948</td>\n",
              "      <td>0.006</td>\n",
              "      <td>0.182</td>\n",
              "      <td>0.032</td>\n",
              "      <td>30.000</td>\n",
              "      <td>0.006</td>\n",
              "      <td>0.727</td>\n",
              "      <td>0.141</td>\n",
              "      <td>0.141</td>\n",
              "      <td>-1.0</td>\n",
              "      <td>1.000</td>\n",
              "      <td>benign</td>\n",
              "    </tr>\n",
              "  </tbody>\n",
              "</table>\n",
              "</div>"
            ],
            "text/plain": [
              "   avgpathtokenlen  pathurlRatio  ArgUrlRatio  argDomanRatio  domainUrlRatio  \\\n",
              "0            105.0         0.876        0.008          0.087           0.095   \n",
              "1             66.0         0.874        0.009          0.091           0.096   \n",
              "2             66.0         0.874        0.009          0.091           0.096   \n",
              "3             66.0         0.874        0.009          0.091           0.096   \n",
              "4             65.0         0.948        0.006          0.182           0.032   \n",
              "\n",
              "   pathDomainRatio  argPathRatio  CharacterContinuityRate  NumberRate_URL  \\\n",
              "0            9.174         0.010                    0.435           0.199   \n",
              "1            9.136         0.010                    0.682           0.257   \n",
              "2            9.136         0.010                    0.682           0.000   \n",
              "3            9.136         0.010                    0.682           0.000   \n",
              "4           30.000         0.006                    0.727           0.141   \n",
              "\n",
              "   NumberRate_FileName  NumberRate_AfterPath  Entropy_Domain     class  \n",
              "0                0.219                  -1.0           0.904  phishing  \n",
              "1                0.293                  -1.0           0.870  phishing  \n",
              "2                0.000                  -1.0           0.870  phishing  \n",
              "3                0.000                  -1.0           0.870  phishing  \n",
              "4                0.141                  -1.0           1.000    benign  "
            ]
          },
          "execution_count": 14,
          "metadata": {},
          "output_type": "execute_result"
        }
      ],
      "source": [
        "if RUNNING_IN_COLAB:\n",
        "    CSV_PATH = '/content/drive/My Drive/Colab Notebooks/DataScience/All_Infogain.csv'\n",
        "else:   \n",
        "    CSV_PATH = '../../dataset/FinalDataset/All_Infogain.csv'\n",
        "\n",
        "CLASS_LABEL_COLUMN = 'class'\n",
        "\n",
        "# Reads CSV file with data\n",
        "df = pandas.read_csv(CSV_PATH, index_col=0)\n",
        "\n",
        "#Remove values with 'NaN'\n",
        "df.dropna(inplace=True)\n",
        "\n",
        "#Resets index \n",
        "df = df.reset_index()\n",
        "\n",
        "df.head()"
      ]
    },
    {
      "cell_type": "markdown",
      "metadata": {
        "id": "86htQ3Pd645M"
      },
      "source": [
        "### Split data into X and Y"
      ]
    },
    {
      "cell_type": "code",
      "execution_count": 15,
      "metadata": {
        "colab": {
          "base_uri": "https://localhost:8080/"
        },
        "id": "XGTHbGdH6-iQ",
        "outputId": "d5a4f845-0dfc-48d6-de60-1f966085b247"
      },
      "outputs": [
        {
          "name": "stdout",
          "output_type": "stream",
          "text": [
            "[[ 1.05e+02  8.76e-01  8.00e-03 ...  2.19e-01 -1.00e+00  9.04e-01]\n",
            " [ 6.60e+01  8.74e-01  9.00e-03 ...  2.93e-01 -1.00e+00  8.70e-01]\n",
            " [ 6.60e+01  8.74e-01  9.00e-03 ...  0.00e+00 -1.00e+00  8.70e-01]\n",
            " ...\n",
            " [ 1.00e+00  9.80e-02  4.90e-02 ...  0.00e+00 -1.00e+00  7.29e-01]\n",
            " [ 1.00e+00  1.05e-01  5.30e-02 ...  0.00e+00 -1.00e+00  7.14e-01]\n",
            " [ 6.67e-01  1.25e-01  5.00e-02 ...  0.00e+00 -1.00e+00  8.61e-01]]\n",
            "\n",
            "\n",
            "['phishing' 'phishing' 'phishing' ... 'phishing' 'phishing' 'phishing']\n"
          ]
        }
      ],
      "source": [
        "#X is a matrix, with all the samples feature array\n",
        "X = df.iloc[:, :-1].values\n",
        "print(X)\n",
        "\n",
        "print('\\n')\n",
        "\n",
        "#Y is the class of the samples\n",
        "Y = df.iloc[:, -1].values\n",
        "print(Y)"
      ]
    },
    {
      "cell_type": "markdown",
      "metadata": {
        "id": "_Q8dbzm3MXnD"
      },
      "source": [
        "### Splits data in two with 80% and 20% of samples"
      ]
    },
    {
      "cell_type": "code",
      "execution_count": 16,
      "metadata": {
        "colab": {
          "base_uri": "https://localhost:8080/"
        },
        "id": "Y51SrdGtMd64",
        "outputId": "b23b51da-ce43-40c8-9646-600448d80bcb"
      },
      "outputs": [
        {
          "name": "stdout",
          "output_type": "stream",
          "text": [
            "[[ 5.133  0.827  0.018 ...  0.    -1.     1.   ]\n",
            " [10.25   0.625  0.028 ...  0.688 -1.     0.852]\n",
            " [ 3.467  0.778  0.101 ... -1.     0.4    0.77 ]\n",
            " ...\n",
            " [ 3.75   0.784  0.642 ...  0.295  0.326  0.801]\n",
            " [ 4.     0.442  0.154 ...  0.182  0.5    0.76 ]\n",
            " [ 2.     0.146  0.049 ...  0.    -1.     0.764]] \n",
            "\n",
            "['benign' 'phishing' 'malware' ... 'spam' 'spam' 'phishing'] \n",
            "\n",
            "[[ 2.667  0.678  0.552 ...  0.086  0.104  0.797]\n",
            " [ 3.667  0.755  0.5   ...  0.388  0.473  0.766]\n",
            " [ 4.182  0.7    0.025 ...  0.    -1.     0.827]\n",
            " ...\n",
            " [ 2.75   0.659  0.489 ...  0.226  0.279  0.87 ]\n",
            " [ 2.667  0.715  0.626 ...  0.207  0.234  0.814]\n",
            " [ 2.667  0.82   0.756 ...  0.057  0.062  0.823]] \n",
            "\n",
            "['Defacement' 'spam' 'Defacement' ... 'spam' 'spam' 'Defacement'] \n",
            "\n",
            "['avgpathtokenlen' 'pathurlRatio' 'ArgUrlRatio' 'argDomanRatio'\n",
            " 'domainUrlRatio' 'pathDomainRatio' 'argPathRatio'\n",
            " 'CharacterContinuityRate' 'NumberRate_URL' 'NumberRate_FileName'\n",
            " 'NumberRate_AfterPath' 'Entropy_Domain']\n"
          ]
        }
      ],
      "source": [
        "X_80, X_20, Y_80, Y_20 = train_test_split(X ,Y, test_size=0.2, random_state=5)\n",
        "\n",
        "print(X_80, '\\n')\n",
        "print(Y_80, '\\n')\n",
        "\n",
        "print(X_20, '\\n')\n",
        "print(Y_20, '\\n')\n",
        "\n",
        "#All class columns except 'class' last column\n",
        "class_columns = df.columns.values[:-1]\n",
        "print(class_columns)"
      ]
    },
    {
      "cell_type": "markdown",
      "metadata": {
        "id": "BlptcHzjPqLt"
      },
      "source": [
        "### Create dataframe with 80%"
      ]
    },
    {
      "cell_type": "code",
      "execution_count": 17,
      "metadata": {
        "colab": {
          "base_uri": "https://localhost:8080/",
          "height": 270
        },
        "id": "_osxhFJRPqh0",
        "outputId": "5ba94e2c-3d45-479f-aa24-38d86dc6d89e"
      },
      "outputs": [
        {
          "data": {
            "text/html": [
              "<div>\n",
              "<style scoped>\n",
              "    .dataframe tbody tr th:only-of-type {\n",
              "        vertical-align: middle;\n",
              "    }\n",
              "\n",
              "    .dataframe tbody tr th {\n",
              "        vertical-align: top;\n",
              "    }\n",
              "\n",
              "    .dataframe thead th {\n",
              "        text-align: right;\n",
              "    }\n",
              "</style>\n",
              "<table border=\"1\" class=\"dataframe\">\n",
              "  <thead>\n",
              "    <tr style=\"text-align: right;\">\n",
              "      <th></th>\n",
              "      <th>avgpathtokenlen</th>\n",
              "      <th>pathurlRatio</th>\n",
              "      <th>ArgUrlRatio</th>\n",
              "      <th>argDomanRatio</th>\n",
              "      <th>domainUrlRatio</th>\n",
              "      <th>pathDomainRatio</th>\n",
              "      <th>argPathRatio</th>\n",
              "      <th>CharacterContinuityRate</th>\n",
              "      <th>NumberRate_URL</th>\n",
              "      <th>NumberRate_FileName</th>\n",
              "      <th>NumberRate_AfterPath</th>\n",
              "      <th>Entropy_Domain</th>\n",
              "      <th>class</th>\n",
              "    </tr>\n",
              "  </thead>\n",
              "  <tbody>\n",
              "    <tr>\n",
              "      <th>0</th>\n",
              "      <td>5.133</td>\n",
              "      <td>0.827</td>\n",
              "      <td>0.018</td>\n",
              "      <td>0.167</td>\n",
              "      <td>0.109</td>\n",
              "      <td>7.583</td>\n",
              "      <td>0.022</td>\n",
              "      <td>0.750</td>\n",
              "      <td>0.091</td>\n",
              "      <td>0.000</td>\n",
              "      <td>-1.0</td>\n",
              "      <td>1.000</td>\n",
              "      <td>benign</td>\n",
              "    </tr>\n",
              "    <tr>\n",
              "      <th>1</th>\n",
              "      <td>10.250</td>\n",
              "      <td>0.625</td>\n",
              "      <td>0.028</td>\n",
              "      <td>0.100</td>\n",
              "      <td>0.278</td>\n",
              "      <td>2.250</td>\n",
              "      <td>0.044</td>\n",
              "      <td>0.350</td>\n",
              "      <td>0.306</td>\n",
              "      <td>0.688</td>\n",
              "      <td>-1.0</td>\n",
              "      <td>0.852</td>\n",
              "      <td>phishing</td>\n",
              "    </tr>\n",
              "    <tr>\n",
              "      <th>2</th>\n",
              "      <td>3.467</td>\n",
              "      <td>0.778</td>\n",
              "      <td>0.101</td>\n",
              "      <td>0.667</td>\n",
              "      <td>0.152</td>\n",
              "      <td>5.133</td>\n",
              "      <td>0.130</td>\n",
              "      <td>0.733</td>\n",
              "      <td>0.152</td>\n",
              "      <td>-1.000</td>\n",
              "      <td>0.4</td>\n",
              "      <td>0.770</td>\n",
              "      <td>malware</td>\n",
              "    </tr>\n",
              "    <tr>\n",
              "      <th>3</th>\n",
              "      <td>4.857</td>\n",
              "      <td>0.520</td>\n",
              "      <td>0.026</td>\n",
              "      <td>0.067</td>\n",
              "      <td>0.390</td>\n",
              "      <td>1.333</td>\n",
              "      <td>0.050</td>\n",
              "      <td>0.900</td>\n",
              "      <td>0.000</td>\n",
              "      <td>0.000</td>\n",
              "      <td>-1.0</td>\n",
              "      <td>0.775</td>\n",
              "      <td>malware</td>\n",
              "    </tr>\n",
              "    <tr>\n",
              "      <th>4</th>\n",
              "      <td>3.200</td>\n",
              "      <td>0.738</td>\n",
              "      <td>0.488</td>\n",
              "      <td>2.733</td>\n",
              "      <td>0.179</td>\n",
              "      <td>4.133</td>\n",
              "      <td>0.661</td>\n",
              "      <td>0.533</td>\n",
              "      <td>0.048</td>\n",
              "      <td>0.000</td>\n",
              "      <td>0.0</td>\n",
              "      <td>0.817</td>\n",
              "      <td>malware</td>\n",
              "    </tr>\n",
              "  </tbody>\n",
              "</table>\n",
              "</div>"
            ],
            "text/plain": [
              "   avgpathtokenlen  pathurlRatio  ArgUrlRatio  argDomanRatio  domainUrlRatio  \\\n",
              "0            5.133         0.827        0.018          0.167           0.109   \n",
              "1           10.250         0.625        0.028          0.100           0.278   \n",
              "2            3.467         0.778        0.101          0.667           0.152   \n",
              "3            4.857         0.520        0.026          0.067           0.390   \n",
              "4            3.200         0.738        0.488          2.733           0.179   \n",
              "\n",
              "   pathDomainRatio  argPathRatio  CharacterContinuityRate  NumberRate_URL  \\\n",
              "0            7.583         0.022                    0.750           0.091   \n",
              "1            2.250         0.044                    0.350           0.306   \n",
              "2            5.133         0.130                    0.733           0.152   \n",
              "3            1.333         0.050                    0.900           0.000   \n",
              "4            4.133         0.661                    0.533           0.048   \n",
              "\n",
              "   NumberRate_FileName  NumberRate_AfterPath  Entropy_Domain     class  \n",
              "0                0.000                  -1.0           1.000    benign  \n",
              "1                0.688                  -1.0           0.852  phishing  \n",
              "2               -1.000                   0.4           0.770   malware  \n",
              "3                0.000                  -1.0           0.775   malware  \n",
              "4                0.000                   0.0           0.817   malware  "
            ]
          },
          "execution_count": 17,
          "metadata": {},
          "output_type": "execute_result"
        }
      ],
      "source": [
        "df_80 = pandas.DataFrame(X_80, columns=class_columns)\n",
        "df_80['class'] = Y_80\n",
        "df_80.head()"
      ]
    },
    {
      "cell_type": "markdown",
      "metadata": {
        "id": "kSS79PcqQS5m"
      },
      "source": [
        "### Create dataframe with 20%"
      ]
    },
    {
      "cell_type": "code",
      "execution_count": 18,
      "metadata": {
        "colab": {
          "base_uri": "https://localhost:8080/",
          "height": 270
        },
        "id": "4kJhPqoiQS5o",
        "outputId": "836c8e8d-08b3-453e-f6de-f5d17786f924"
      },
      "outputs": [
        {
          "data": {
            "text/html": [
              "<div>\n",
              "<style scoped>\n",
              "    .dataframe tbody tr th:only-of-type {\n",
              "        vertical-align: middle;\n",
              "    }\n",
              "\n",
              "    .dataframe tbody tr th {\n",
              "        vertical-align: top;\n",
              "    }\n",
              "\n",
              "    .dataframe thead th {\n",
              "        text-align: right;\n",
              "    }\n",
              "</style>\n",
              "<table border=\"1\" class=\"dataframe\">\n",
              "  <thead>\n",
              "    <tr style=\"text-align: right;\">\n",
              "      <th></th>\n",
              "      <th>avgpathtokenlen</th>\n",
              "      <th>pathurlRatio</th>\n",
              "      <th>ArgUrlRatio</th>\n",
              "      <th>argDomanRatio</th>\n",
              "      <th>domainUrlRatio</th>\n",
              "      <th>pathDomainRatio</th>\n",
              "      <th>argPathRatio</th>\n",
              "      <th>CharacterContinuityRate</th>\n",
              "      <th>NumberRate_URL</th>\n",
              "      <th>NumberRate_FileName</th>\n",
              "      <th>NumberRate_AfterPath</th>\n",
              "      <th>Entropy_Domain</th>\n",
              "      <th>class</th>\n",
              "    </tr>\n",
              "  </thead>\n",
              "  <tbody>\n",
              "    <tr>\n",
              "      <th>0</th>\n",
              "      <td>2.667</td>\n",
              "      <td>0.678</td>\n",
              "      <td>0.552</td>\n",
              "      <td>2.286</td>\n",
              "      <td>0.241</td>\n",
              "      <td>2.810</td>\n",
              "      <td>0.814</td>\n",
              "      <td>0.667</td>\n",
              "      <td>0.058</td>\n",
              "      <td>0.086</td>\n",
              "      <td>0.104</td>\n",
              "      <td>0.797</td>\n",
              "      <td>Defacement</td>\n",
              "    </tr>\n",
              "    <tr>\n",
              "      <th>1</th>\n",
              "      <td>3.667</td>\n",
              "      <td>0.755</td>\n",
              "      <td>0.500</td>\n",
              "      <td>2.750</td>\n",
              "      <td>0.182</td>\n",
              "      <td>4.150</td>\n",
              "      <td>0.663</td>\n",
              "      <td>0.750</td>\n",
              "      <td>0.246</td>\n",
              "      <td>0.388</td>\n",
              "      <td>0.473</td>\n",
              "      <td>0.766</td>\n",
              "      <td>spam</td>\n",
              "    </tr>\n",
              "    <tr>\n",
              "      <th>2</th>\n",
              "      <td>4.182</td>\n",
              "      <td>0.700</td>\n",
              "      <td>0.025</td>\n",
              "      <td>0.118</td>\n",
              "      <td>0.213</td>\n",
              "      <td>3.294</td>\n",
              "      <td>0.036</td>\n",
              "      <td>0.824</td>\n",
              "      <td>0.000</td>\n",
              "      <td>0.000</td>\n",
              "      <td>-1.000</td>\n",
              "      <td>0.827</td>\n",
              "      <td>Defacement</td>\n",
              "    </tr>\n",
              "    <tr>\n",
              "      <th>3</th>\n",
              "      <td>4.667</td>\n",
              "      <td>0.803</td>\n",
              "      <td>0.513</td>\n",
              "      <td>3.750</td>\n",
              "      <td>0.137</td>\n",
              "      <td>5.875</td>\n",
              "      <td>0.638</td>\n",
              "      <td>0.250</td>\n",
              "      <td>0.205</td>\n",
              "      <td>0.348</td>\n",
              "      <td>0.400</td>\n",
              "      <td>0.770</td>\n",
              "      <td>spam</td>\n",
              "    </tr>\n",
              "    <tr>\n",
              "      <th>4</th>\n",
              "      <td>4.714</td>\n",
              "      <td>0.696</td>\n",
              "      <td>0.036</td>\n",
              "      <td>0.200</td>\n",
              "      <td>0.179</td>\n",
              "      <td>3.900</td>\n",
              "      <td>0.051</td>\n",
              "      <td>0.500</td>\n",
              "      <td>0.054</td>\n",
              "      <td>0.167</td>\n",
              "      <td>-1.000</td>\n",
              "      <td>0.880</td>\n",
              "      <td>spam</td>\n",
              "    </tr>\n",
              "  </tbody>\n",
              "</table>\n",
              "</div>"
            ],
            "text/plain": [
              "   avgpathtokenlen  pathurlRatio  ArgUrlRatio  argDomanRatio  domainUrlRatio  \\\n",
              "0            2.667         0.678        0.552          2.286           0.241   \n",
              "1            3.667         0.755        0.500          2.750           0.182   \n",
              "2            4.182         0.700        0.025          0.118           0.213   \n",
              "3            4.667         0.803        0.513          3.750           0.137   \n",
              "4            4.714         0.696        0.036          0.200           0.179   \n",
              "\n",
              "   pathDomainRatio  argPathRatio  CharacterContinuityRate  NumberRate_URL  \\\n",
              "0            2.810         0.814                    0.667           0.058   \n",
              "1            4.150         0.663                    0.750           0.246   \n",
              "2            3.294         0.036                    0.824           0.000   \n",
              "3            5.875         0.638                    0.250           0.205   \n",
              "4            3.900         0.051                    0.500           0.054   \n",
              "\n",
              "   NumberRate_FileName  NumberRate_AfterPath  Entropy_Domain       class  \n",
              "0                0.086                 0.104           0.797  Defacement  \n",
              "1                0.388                 0.473           0.766        spam  \n",
              "2                0.000                -1.000           0.827  Defacement  \n",
              "3                0.348                 0.400           0.770        spam  \n",
              "4                0.167                -1.000           0.880        spam  "
            ]
          },
          "execution_count": 18,
          "metadata": {},
          "output_type": "execute_result"
        }
      ],
      "source": [
        "df_20 = pandas.DataFrame(X_20, columns=class_columns)\n",
        "df_20['class'] = Y_20\n",
        "df_20.head()"
      ]
    },
    {
      "cell_type": "markdown",
      "metadata": {
        "id": "H0NeTL8cQaYO"
      },
      "source": [
        "### Check the proportion of classes on each dataset "
      ]
    },
    {
      "cell_type": "code",
      "execution_count": 19,
      "metadata": {
        "colab": {
          "base_uri": "https://localhost:8080/"
        },
        "id": "iM90UfP5QZzR",
        "outputId": "5c150a4a-a245-44c3-e839-6cee184f8f9d"
      },
      "outputs": [
        {
          "name": "stdout",
          "output_type": "stream",
          "text": [
            "Defacement    7930\n",
            "benign        7776\n",
            "phishing      7311\n",
            "malware       6707\n",
            "spam          6693\n",
            "Name: class, dtype: int64 \n",
            "\n",
            "Total samples:  36417 \n",
            "\n",
            "Defacement    6376\n",
            "benign        6234\n",
            "phishing      5855\n",
            "malware       5369\n",
            "spam          5299\n",
            "Name: class, dtype: int64 \n",
            "\n",
            "Total samples:  29133 \n",
            "\n",
            "Defacement    1554\n",
            "benign        1542\n",
            "phishing      1456\n",
            "spam          1394\n",
            "malware       1338\n",
            "Name: class, dtype: int64 \n",
            "\n",
            "Total samples:  7284 \n",
            "\n"
          ]
        }
      ],
      "source": [
        "class_counts = df['class'].value_counts()\n",
        "print(class_counts, '\\n')\n",
        "print('Total samples: ', len(df['class']), '\\n')\n",
        "\n",
        "class_counts_80 = df_80['class'].value_counts()\n",
        "print(class_counts_80, '\\n')\n",
        "print('Total samples: ', len(df_80['class']), '\\n')\n",
        "\n",
        "class_counts_20 = df_20['class'].value_counts()\n",
        "print(class_counts_20, '\\n')\n",
        "print('Total samples: ', len(df_20['class']), '\\n')"
      ]
    },
    {
      "cell_type": "markdown",
      "metadata": {
        "id": "x8_3Q04fRce-"
      },
      "source": [
        "### Generate Files with splited datasets"
      ]
    },
    {
      "cell_type": "code",
      "execution_count": 20,
      "metadata": {
        "id": "kPakuHjjRhI2"
      },
      "outputs": [],
      "source": [
        "if RUNNING_IN_COLAB:\n",
        "  csv_80_path = '/content/drive/My Drive/Colab Notebooks/DataScience/All_Infogain_80.csv'\n",
        "  csv_20_path = '/content/drive/My Drive/Colab Notebooks/DataScience/All_Infogain_20.csv'\n",
        "else:\n",
        "  csv_80_path = '../../dataset/splitted/All_Infogain_80.csv'\n",
        "  csv_20_path = '../../dataset/splitted/All_Infogain_20.csv'\n",
        "\n",
        "#index = False to avoid printing index column\n",
        "df_80.to_csv(csv_80_path, sep=',', index=False)\n",
        "df_20.to_csv(csv_20_path, sep=',', index=False)"
      ]
    }
  ],
  "metadata": {
    "colab": {
      "collapsed_sections": [],
      "name": "DatasetSpliting.ipynb",
      "provenance": []
    },
    "kernelspec": {
      "display_name": "Python 3",
      "name": "python3"
    },
    "language_info": {
      "codemirror_mode": {
        "name": "ipython",
        "version": 3
      },
      "file_extension": ".py",
      "mimetype": "text/x-python",
      "name": "python",
      "nbconvert_exporter": "python",
      "pygments_lexer": "ipython3",
      "version": "3.10.0"
    }
  },
  "nbformat": 4,
  "nbformat_minor": 0
}
